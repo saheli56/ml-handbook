{
  "nbformat": 4,
  "nbformat_minor": 0,
  "metadata": {
    "colab": {
      "provenance": [],
      "authorship_tag": "ABX9TyMrFo0zRNVnN/LqsBqzJOtP",
      "include_colab_link": true
    },
    "kernelspec": {
      "name": "python3",
      "display_name": "Python 3"
    },
    "language_info": {
      "name": "python"
    }
  },
  "cells": [
    {
      "cell_type": "markdown",
      "metadata": {
        "id": "view-in-github",
        "colab_type": "text"
      },
      "source": [
        "<a href=\"https://colab.research.google.com/github/saheli56/ml-handbook/blob/main/Distribution%20model%20(Part%202).ipynb\" target=\"_parent\"><img src=\"https://colab.research.google.com/assets/colab-badge.svg\" alt=\"Open In Colab\"/></a>"
      ]
    },
    {
      "cell_type": "markdown",
      "source": [],
      "metadata": {
        "id": "REX-OSPtNM9P"
      }
    },
    {
      "cell_type": "markdown",
      "source": [
        "# Normal Distribution"
      ],
      "metadata": {
        "id": "LBpuNr5yNOn5"
      }
    },
    {
      "cell_type": "code",
      "source": [
        "import scipy .stats\n",
        "import numpy as np\n",
        "import matplotlib.pyplot as plt"
      ],
      "metadata": {
        "id": "fIVJonzENPrA"
      },
      "execution_count": null,
      "outputs": []
    },
    {
      "cell_type": "code",
      "source": [
        "np.random.seed(1234)"
      ],
      "metadata": {
        "id": "nXYWeCOwNfTa"
      },
      "execution_count": null,
      "outputs": []
    },
    {
      "cell_type": "code",
      "source": [
        "samples = np.random.lognormal(mean =1,sigma=0.4,size=10000)"
      ],
      "metadata": {
        "id": "dfUbpsBZNl9r"
      },
      "execution_count": null,
      "outputs": []
    },
    {
      "cell_type": "code",
      "source": [
        "shape,loc,scale = scipy.stats.lognorm.fit(samples, floc=0)"
      ],
      "metadata": {
        "id": "oCMLkHGMN1Qj"
      },
      "execution_count": null,
      "outputs": []
    },
    {
      "cell_type": "code",
      "source": [
        "num_bins =50"
      ],
      "metadata": {
        "id": "vYjL92ZqN9yS"
      },
      "execution_count": null,
      "outputs": []
    },
    {
      "cell_type": "code",
      "source": [
        "counts,edges,patches = plt.hist(samples,num_bins,color='g')"
      ],
      "metadata": {
        "colab": {
          "base_uri": "https://localhost:8080/",
          "height": 430
        },
        "id": "NFfTdmWmOEwN",
        "outputId": "7390b3f9-1cd1-4f60-bb50-1741c52177aa"
      },
      "execution_count": null,
      "outputs": [
        {
          "output_type": "display_data",
          "data": {
            "text/plain": [
              "<Figure size 640x480 with 1 Axes>"
            ],
            "image/png": "[encoded data removed]"
          },
          "metadata": {}
        }
      ]
    },
    {
      "cell_type": "markdown",
      "source": [
        "# Binomial Distribution"
      ],
      "metadata": {
        "id": "24_7FIUCOgWe"
      }
    },
    {
      "cell_type": "code",
      "source": [
        "import seaborn\n",
        "from scipy.stats import binom"
      ],
      "metadata": {
        "id": "MynpHuJ5Oo6n"
      },
      "execution_count": null,
      "outputs": []
    },
    {
      "cell_type": "code",
      "source": [
        "data = binom.rvs(n=17,p=0.7,size=1010)"
      ],
      "metadata": {
        "id": "j27lP48iOxPn"
      },
      "execution_count": null,
      "outputs": []
    },
    {
      "cell_type": "code",
      "source": [
        "ax = seaborn.distplot(data,color='yellow',kde=True ,hist_kws={'linewidth':22,'alpha':0.77})"
      ],
      "metadata": {
        "colab": {
          "base_uri": "https://localhost:8080/",
          "height": 631
        },
        "id": "jOWNg2xwO8Tj",
        "outputId": "575b003d-0d3a-42cc-9595-580ec4ce898b"
      },
      "execution_count": null,
      "outputs": [
        {
          "output_type": "stream",
          "name": "stderr",
          "text": [
            "/tmp/ipython-input-3733350337.py:1: UserWarning: \n",
            "\n",
            "`distplot` is a deprecated function and will be removed in seaborn v0.14.0.\n",
            "\n",
            "Please adapt your code to use either `displot` (a figure-level function with\n",
            "similar flexibility) or `histplot` (an axes-level function for histograms).\n",
            "\n",
            "For a guide to updating your code to use the new functions, please see\n",
            "https://gist.github.com/mwaskom/de44147ed2974457ad6372750bbe5751\n",
            "\n",
            "  ax = seaborn.distplot(data,color='yellow',kde=True ,hist_kws={'linewidth':22,'alpha':0.77})\n"
          ]
        },
        {
          "output_type": "display_data",
          "data": {
            "text/plain": [
              "<Figure size 640x480 with 1 Axes>"
            ],
            "image/png": "[encoded data removed]"
          },
          "metadata": {}
        }
      ]
    },
    {
      "cell_type": "markdown",
      "source": [
        "#Position Distrustion"
      ],
      "metadata": {
        "id": "DHqY6DkBP2qv"
      }
    },
    {
      "cell_type": "code",
      "source": [
        "s = np.random.poisson(5,10000)"
      ],
      "metadata": {
        "id": "8MhO6ncGP7pv"
      },
      "execution_count": null,
      "outputs": []
    },
    {
      "cell_type": "code",
      "source": [
        "plt.hist(s,16,color='purple')"
      ],
      "metadata": {
        "colab": {
          "base_uri": "https://localhost:8080/",
          "height": 521
        },
        "id": "kt4cHquZQaFF",
        "outputId": "ff4f2a62-66b5-49f7-f5ed-698b801969ae"
      },
      "execution_count": null,
      "outputs": [
        {
          "output_type": "execute_result",
          "data": {
            "text/plain": [
              "(array([  83.,  328.,  803., 1380., 1751., 1820., 1481., 1055.,  608.,\n",
              "         346.,  201.,   81.,   42.,   12.,    7.,    2.]),\n",
              " array([ 0.,  1.,  2.,  3.,  4.,  5.,  6.,  7.,  8.,  9., 10., 11., 12.,\n",
              "        13., 14., 15., 16.]),\n",
              " <BarContainer object of 16 artists>)"
            ]
          },
          "metadata": {},
          "execution_count": 21
        },
        {
          "output_type": "display_data",
          "data": {
            "text/plain": [
              "<Figure size 640x480 with 1 Axes>"
            ],
            "image/png": "[encoded data removed]"
          },
          "metadata": {}
        }
      ]
    },
    {
      "cell_type": "markdown",
      "source": [
        "#Bernoulli Distribution"
      ],
      "metadata": {
        "id": "eG126GSIQmU_"
      }
    },
    {
      "cell_type": "code",
      "source": [
        "s = np.random.binomial(10,0.5,10000)"
      ],
      "metadata": {
        "id": "hXYYnpuAQvXX"
      },
      "execution_count": null,
      "outputs": []
    },
    {
      "cell_type": "code",
      "source": [
        "s"
      ],
      "metadata": {
        "colab": {
          "base_uri": "https://localhost:8080/"
        },
        "id": "aQpCrgwQQ7DF",
        "outputId": "644633bd-d6f7-46d8-b616-9fcf1393eb3b"
      },
      "execution_count": null,
      "outputs": [
        {
          "output_type": "execute_result",
          "data": {
            "text/plain": [
              "array([6, 5, 4, ..., 6, 5, 7])"
            ]
          },
          "metadata": {},
          "execution_count": 23
        }
      ]
    },
    {
      "cell_type": "code",
      "source": [
        "plt.hist(s,16,color='Brown')"
      ],
      "metadata": {
        "colab": {
          "base_uri": "https://localhost:8080/",
          "height": 539
        },
        "id": "dX4eohLNRAM9",
        "outputId": "9edada30-84ab-4f16-ab78-7a4510da2ebf"
      },
      "execution_count": null,
      "outputs": [
        {
          "output_type": "execute_result",
          "data": {
            "text/plain": [
              "(array([   9.,  103.,    0.,  450., 1205.,    0., 2065.,    0., 2443.,\n",
              "        2040.,    0., 1176.,  408.,    0.,   88.,   13.]),\n",
              " array([ 0.   ,  0.625,  1.25 ,  1.875,  2.5  ,  3.125,  3.75 ,  4.375,\n",
              "         5.   ,  5.625,  6.25 ,  6.875,  7.5  ,  8.125,  8.75 ,  9.375,\n",
              "        10.   ]),\n",
              " <BarContainer object of 16 artists>)"
            ]
          },
          "metadata": {},
          "execution_count": 26
        },
        {
          "output_type": "display_data",
          "data": {
            "text/plain": [
              "<Figure size 640x480 with 1 Axes>"
            ],
            "image/png": "[encoded data removed]"
          },
          "metadata": {}
        }
      ]
    }
  ]
}